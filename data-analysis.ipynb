{
 "cells": [
  {
   "cell_type": "markdown",
   "id": "e372b241-a8f5-4899-876b-9593c70c139b",
   "metadata": {},
   "source": [
    "# LSTM Model and Its Application in the Financial Markets "
   ]
  },
  {
   "cell_type": "markdown",
   "id": "f34a9b73-4ac8-4d98-8a98-e407f64f4dd7",
   "metadata": {},
   "source": [
    "<div style=\"width:1280px\">\n",
    "\n",
    "In many research publications there has been a lot of discussions around a new trading phenomenon used in various trading strategies known as the LSTM Model, often referred to as the Long-Term Short-Term Memory Model which is used in the neural network or machine learning arena. We would like to uncover the truth behind this style of trading, is it truth or fiction?\n",
    "\n",
    "<br/>In previous works we have seen much of the hype surrounding neural networks and its applications more focused in image-based applications such as fingerprint recognition, facial recognition, etc.\n",
    "However, models in **Recurrent Neural Networks** (RNNs) have been successfully used in recent years to predict future events in time series as well. RNNs have contributed to breakthroughs in a wide variety of fields centered around predicting sequences of events. \n",
    "\n",
    "\n",
    "<br/>In this project, we will explore and demonstrate how one type of RNN model, the **Long Short-Term Memory (LSTM)** network, can be used to predict price movement in financial time series data which is considered to be perhaps the most chaotic and difficult of all time series. We will also seek to \n",
    "\n",
    "</div>"
   ]
  },
  {
   "cell_type": "markdown",
   "id": "7769ec98-79ba-4b26-8c4b-0eb5b727322c",
   "metadata": {},
   "source": [
    "# Definitions\n",
    "\n",
    "Before we dive into it let's understand some terminologies commonly used in the model\n",
    "\n",
    "- **Features**  : The feature / object we gonna use to predict the next price value.\n",
    "- **Dropout**   : The dropout rate is the probability of not training a given node in a layer, where 0.0 means no dropout at all. This type of regularization can help the model to not overfit our training data.\n",
    "        \n",
    "- **Optimiser** : Optimisation algorithm to use (defaults to Adam).\n",
    "- **Batch Size**: The number of data samples to use on each training iteration.\n",
    "- **Epoch**     : The number of times that the learning algorithm will pass through the entire training dataset\n"
   ]
  },
  {
   "cell_type": "code",
   "execution_count": null,
   "id": "0cfaa6af-4825-49f8-b5c4-128641ac1efb",
   "metadata": {},
   "outputs": [],
   "source": []
  },
  {
   "cell_type": "code",
   "execution_count": null,
   "id": "8bb30b6c-e09d-40d1-9a7c-ad63abf4d881",
   "metadata": {},
   "outputs": [],
   "source": []
  }
 ],
 "metadata": {
  "kernelspec": {
   "display_name": "Python 3",
   "language": "python",
   "name": "python3"
  },
  "language_info": {
   "codemirror_mode": {
    "name": "ipython",
    "version": 3
   },
   "file_extension": ".py",
   "mimetype": "text/x-python",
   "name": "python",
   "nbconvert_exporter": "python",
   "pygments_lexer": "ipython3",
   "version": "3.8.8"
  }
 },
 "nbformat": 4,
 "nbformat_minor": 5
}
